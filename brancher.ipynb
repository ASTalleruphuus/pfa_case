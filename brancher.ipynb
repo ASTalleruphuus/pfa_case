{
 "cells": [
  {
   "cell_type": "code",
   "execution_count": 1,
   "metadata": {},
   "outputs": [],
   "source": [
    "import numpy as np\n",
    "import pandas as pd\n",
    "\n",
    "with open('arbejdsmarkedsanalyse_brancher.csv', 'r') as file: \n",
    "    brancher_df= pd.read_csv(file, delimiter = ';')\n",
    "    \n",
    "# print subsets of data I used for exploring the data set\n",
    "print_all_the_stuff = False\n",
    "\n",
    "# basic info\n",
    "if print_all_the_stuff:\n",
    "    print(brancher_df.info())\n",
    "    print(brancher_df.head(3))\n",
    "    \n",
    "    \n",
    "# rename used categoris \n",
    "top = 'Topic Label'\n",
    "ques = 'Question Label'\n",
    "spm = 'Ordforklaring'\n",
    "score = 'Score'\n",
    "group = 'Group'\n",
    "unit = 'Akse'\n",
    "id_score = 'Score (Indekseret score)'"
   ]
  },
  {
   "cell_type": "code",
   "execution_count": 2,
   "metadata": {},
   "outputs": [],
   "source": [
    "# remove empty/non-important coloumns\n",
    "df = brancher_df.drop(['Kategori12', 'Kategori13', 'Kategori14','Kategori15'],axis=1)\n",
    "\n",
    "###################################\n",
    "# decimal numbers are represented with comma instead of point (Danish style); need to convert for python to read as floats\n",
    "###################################\n",
    "\n",
    "# checking non-strings before converting to readable decimal points\n",
    "if print_all_the_stuff:\n",
    "    for x in df[score]:\n",
    "        try:\n",
    "            x.replace(',','.')\n",
    "        except AttributeError:\n",
    "            print(x)\n",
    "\n",
    "# convert to readable decimal points\n",
    "df[score]=[float(str(x).replace(',','.')) for x in df['Score'] ]\n",
    "\n",
    "# checking non-strings before converting to readable decimal points\n",
    "if print_all_the_stuff:\n",
    "    for x in df[id_score]:\n",
    "        try:\n",
    "            x.replace(',','.')\n",
    "        except AttributeError:\n",
    "            print(x)\n",
    "        \n",
    "# convert to readable decimal points        \n",
    "df[id_score]=[float(str(x).replace(',','.')) for x in df[id_score] ]\n",
    "\n",
    "if print_all_the_stuff:\n",
    "    print(df[score].head(30))\n",
    "    print(df[id_score].head(30))"
   ]
  },
  {
   "cell_type": "code",
   "execution_count": 4,
   "metadata": {},
   "outputs": [
    {
     "data": {
      "text/plain": [
       "array(['Bibliotekarer og beskæftigede med kultur', 'Bogholdere',\n",
       "       'Brandmænd, reddere og sikkerhedsvagter', 'Bude og kurerer',\n",
       "       'Bus- og taxachauffører, lokoførere m.fl.', 'Butikssælgere',\n",
       "       'Bygge- og anlægsarbejdere',\n",
       "       'Dagplejere og børneomsorgsbeskæftigede',\n",
       "       'Direktions-, læge-, og advokatsekretærer',\n",
       "       'Ejendoms- og rengøringsinspektører', 'Elektrikere',\n",
       "       'Farmaceuter, tandlæger og dyrlæger',\n",
       "       'Farmakonomer og bioanalytikere', 'Frisører og kosmetologer',\n",
       "       'Fysio- og ergoterapeuter', 'Gartnere og landmænd',\n",
       "       'Gymnasielærere', 'IT-konsulenter', 'IT-teknikere',\n",
       "       'Ingeniører og arkitekter', 'Jord- og betonarbejdere',\n",
       "       'Journalister', 'Jurister', 'Kasseassistenter',\n",
       "       'Klinikassistenter', 'Kokke og tjenere',\n",
       "       'Kontormedarbejdere og sekretærer', 'Kundeinformationsarbejdere',\n",
       "       'Køkkenmedhjælpere', 'Laboranter', 'Lager- og transportarbejdere',\n",
       "       'Lastbilchauffører', 'Ledere', 'Læger', 'Malere',\n",
       "       'Manuelt arbejde uden nærmere angivelse', 'Maskinførere',\n",
       "       'Maskinoperatører m.fl.', 'Mekanikere', 'Militærpersonale',\n",
       "       'Montører', 'Murere, VVS´ere m.fl.',\n",
       "       'Naturvidenskabelige akademikere', 'Naturvidenskabelige teknikere',\n",
       "       'Nærings- og nydelsesmiddelindustrimedarbejdere',\n",
       "       'Passagerservicemedarbejdere', 'Politi og fængselsbetjente',\n",
       "       'Portører m.fl.', 'Produktionsmedarbejdere',\n",
       "       'Præcisionshåndværkere', 'Psykologer', 'Pædagoger',\n",
       "       'Pædagogmedhjælpere', 'Regnskabsmedarbejdere',\n",
       "       'Rengøringsassistenter', 'Revisorer, rådgivere og analytikere',\n",
       "       'SOSU´er', 'Salgs- og indkøbsagenter',\n",
       "       'Samfundsvidenskabelige akademikere', 'Servicefag i øvrigt',\n",
       "       'Skolelærere', 'Slagtere og bagere', 'Smede', 'Socialrådgivere',\n",
       "       'Specialpædagoger', 'Specialundervisere',\n",
       "       'Speditører og ekspeditører m.fl.',\n",
       "       'Sundhedsarbejdere uden nærmere angivelse', 'Sygeplejersker',\n",
       "       'Tekniske tegnere', 'Told- og skattemedarbejdere', 'Total',\n",
       "       'Tømrere og snedkere', 'Undervisere og forskere ved universiteter',\n",
       "       'Undervisere ved erhvervsskoler', 'Uoplyst'], dtype=object)"
      ]
     },
     "execution_count": 4,
     "metadata": {},
     "output_type": "execute_result"
    }
   ],
   "source": [
    "# brancher\n",
    "df[group].unique()"
   ]
  },
  {
   "cell_type": "code",
   "execution_count": null,
   "metadata": {},
   "outputs": [],
   "source": []
  }
 ],
 "metadata": {
  "kernelspec": {
   "display_name": "Python 3",
   "language": "python",
   "name": "python3"
  },
  "language_info": {
   "codemirror_mode": {
    "name": "ipython",
    "version": 3
   },
   "file_extension": ".py",
   "mimetype": "text/x-python",
   "name": "python",
   "nbconvert_exporter": "python",
   "pygments_lexer": "ipython3",
   "version": "3.7.9"
  }
 },
 "nbformat": 4,
 "nbformat_minor": 4
}

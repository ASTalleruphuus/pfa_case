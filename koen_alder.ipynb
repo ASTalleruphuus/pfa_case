{
 "cells": [
  {
   "cell_type": "code",
   "execution_count": 1,
   "metadata": {},
   "outputs": [],
   "source": [
    "# REMEMBER TO RESTART KERNEL BEFORE RUNNING THIS NOTEBOOK #\n",
    "\n",
    "\n",
    "\n",
    "#---------------------------------------------------------#\n",
    "\n",
    "# execute all the exploring printing?\n",
    "print_all_the_stuff = False\n",
    "\n",
    "# save figures to .png when running notebook?\n",
    "save_fig_again = False\n",
    "\n"
   ]
  },
  {
   "cell_type": "code",
   "execution_count": 2,
   "metadata": {},
   "outputs": [],
   "source": [
    "import numpy as np\n",
    "import pandas as pd\n",
    "import matplotlib.pyplot as plt\n",
    "\n",
    "\n",
    "# read file and print basic information \n",
    "with open('arbejdsmarkedsanalyse_koen_alder.csv','r') as file:\n",
    "    koen_alder_df = pd.read_csv(file, delimiter = ';')\n",
    "            \n"
   ]
  },
  {
   "cell_type": "code",
   "execution_count": 3,
   "metadata": {},
   "outputs": [],
   "source": [
    "# print basic information\n",
    "if print_all_the_stuff:\n",
    "    print(koen_alder_df.info())\n",
    "    print(koen_alder_df.head(3))"
   ]
  },
  {
   "cell_type": "code",
   "execution_count": 4,
   "metadata": {},
   "outputs": [],
   "source": [
    "# print all topic labels\n",
    "if print_all_the_stuff:\n",
    "    koen_alder_df['Topic Label'].unique()"
   ]
  },
  {
   "cell_type": "code",
   "execution_count": 5,
   "metadata": {},
   "outputs": [],
   "source": [
    "# print all question labels\n",
    "if print_all_the_stuff:    \n",
    "    koen_alder_df['Question Label'].unique()"
   ]
  },
  {
   "cell_type": "code",
   "execution_count": 6,
   "metadata": {},
   "outputs": [],
   "source": [
    "# remove empty/non-important coloumns\n",
    "df = koen_alder_df.drop(['Farveskala', 'Gennemsnit', 'Score (Indekseret score) (gennemsnit) (label)','Score (Indekseret score) (gennemsnit)'],axis=1)\n",
    "\n",
    "# convert to readable decimal numbers\n",
    "df['Score']=[float(x.replace(',','.')) for x in df['Score'] ]\n",
    "df['Score (Indekseret score)']=[float(x.replace(',','.')) for x in df['Score (Indekseret score)'] ]\n",
    "\n",
    "if print_all_the_stuff:\n",
    "    print(df.info())"
   ]
  },
  {
   "cell_type": "code",
   "execution_count": 7,
   "metadata": {},
   "outputs": [],
   "source": [
    "# making life easier by renaming frequently used categories\n",
    "top = 'Topic Label'\n",
    "ques = 'Question Label'\n",
    "spm = 'Ordforklaring'\n",
    "score = 'Score'\n",
    "group = 'Group'\n",
    "unit = 'Akse'\n",
    "id_score = 'Score (Indekseret score)'"
   ]
  },
  {
   "cell_type": "code",
   "execution_count": null,
   "metadata": {},
   "outputs": [],
   "source": []
  },
  {
   "cell_type": "markdown",
   "metadata": {},
   "source": [
    "**Fysisk og psykisk helbred og arbejdsmiljø**"
   ]
  },
  {
   "cell_type": "code",
   "execution_count": null,
   "metadata": {},
   "outputs": [],
   "source": []
  },
  {
   "cell_type": "code",
   "execution_count": 8,
   "metadata": {},
   "outputs": [
    {
     "data": {
      "text/plain": [
       "array(['Psykisk arbejdsevne', 'Fysisk arbejdsevne', 'Arbejdsevne'],\n",
       "      dtype=object)"
      ]
     },
     "execution_count": 8,
     "metadata": {},
     "output_type": "execute_result"
    }
   ],
   "source": [
    "# questions in the Arbejdsevne topic\n",
    "df[df[top] == 'Arbejdsevne'][ques].unique()"
   ]
  },
  {
   "cell_type": "code",
   "execution_count": 9,
   "metadata": {},
   "outputs": [
    {
     "name": "stdout",
     "output_type": "stream",
     "text": [
      "Spørgsmål: En samlet score for vitalitet\n",
      "\n",
      "-0-100\n",
      "\n",
      "Scoren er beregnet som et gennemsnit af tre spørgsmål. Ved hvert spørgsmål er der seks svarkategorier, der hver angiver en score mellem 0 og 100. Jo højere score desto højere vitalitet.\n",
      "Spørgsmål: Samlet score for mental sundhed\n",
      "\n",
      "-0-100\n",
      "\n",
      "Scoren er beregnet som et gennemsnit af fire spørgsmål. Ved hvert spørgsmål er der seks svarkategorier, der hver angiver en score mellem 0 og 100. Jo højere score desto højere mental sundhed.\n"
     ]
    },
    {
     "data": {
      "text/plain": [
       "[None, None]"
      ]
     },
     "execution_count": 9,
     "metadata": {},
     "output_type": "execute_result"
    }
   ],
   "source": [
    "# group normalized score data by group and questions\n",
    "arb_evne = df[df[top] == 'Arbejdsevne'].groupby([group, ques])[id_score].mean()\n",
    "arb_evne_spm = df[df[top] == 'Arbejdsevne'][spm].unique()\n",
    "\n",
    "# print questions and scoring information\n",
    "[print(x) for x in df[df[top]=='Mentalt helbred'][spm].unique()]"
   ]
  },
  {
   "cell_type": "code",
   "execution_count": 10,
   "metadata": {},
   "outputs": [
    {
     "name": "stdout",
     "output_type": "stream",
     "text": [
      "Spørgsmål: Hvordan synes du, at dit helbred er alt i alt?\n",
      "\n",
      "- 1. Dårligt\n",
      "- 2. Mindre godt\n",
      "- 3. Godt\n",
      "- 4. Vældig godt\n",
      "- 5. Fremragende\n",
      "\n",
      "I resultaterne præsenteres den gennemsnitlige score (1-5).\n"
     ]
    },
    {
     "data": {
      "text/plain": [
       "[None]"
      ]
     },
     "execution_count": 10,
     "metadata": {},
     "output_type": "execute_result"
    }
   ],
   "source": [
    "[print(x) for x in df[df[top]=='Helbred'][spm].unique()]"
   ]
  },
  {
   "cell_type": "code",
   "execution_count": 11,
   "metadata": {},
   "outputs": [
    {
     "name": "stdout",
     "output_type": "stream",
     "text": [
      "Spørgsmål: Hvordan vurderer du din nuværende arbejdsevne i forhold til de psykiske krav i dit arbejde?\n",
      "\n",
      "- 1. Dårlig\n",
      "- 2. Nogenlunde\n",
      "- 3. God\n",
      "- 4. Særdeles god\n",
      "- 5. Fremragende\n",
      "\n",
      "I resultaterne præsenteres den gennemsnitlige score (1-5).\n",
      "Spørgsmål: Hvordan vurderer du din nuværende arbejdsevne i forhold til de fysiske krav i dit arbejde?\n",
      "\n",
      "- 1. Dårlig\n",
      "- 2. Nogenlunde\n",
      "- 3. God\n",
      "- 4. Særdeles god\n",
      "- 5. Fremragende\n",
      "\n",
      "I resultaterne præsenteres den gennemsnitlige score (1-5).\n",
      "Spørgsmål: Forestil dig, at din arbejdsevne er 10 point værd, når den er bedst. Hvor mange point vil du give din nuværende arbejdsevne?\n",
      "\n",
      "-0 ~ Ude af stand til at arbejde\n",
      "-1\n",
      "-2\n",
      "-3\n",
      "-4\n",
      "- 5\n",
      "-6\n",
      "-7\n",
      "-8\n",
      "-9\n",
      "-10 ~ Bedste arbejdsevne\n",
      "\n",
      "I resultaterne præsenteres den gennemsnitlige score (0-10).\n"
     ]
    }
   ],
   "source": [
    "for l in arb_evne_spm:\n",
    "    print(l)"
   ]
  },
  {
   "cell_type": "code",
   "execution_count": null,
   "metadata": {},
   "outputs": [],
   "source": []
  },
  {
   "cell_type": "code",
   "execution_count": 12,
   "metadata": {},
   "outputs": [],
   "source": [
    "# actual data"
   ]
  },
  {
   "cell_type": "code",
   "execution_count": 13,
   "metadata": {},
   "outputs": [
    {
     "data": {
      "text/plain": [
       "Group                Question Label     \n",
       "Kvinder              Arbejdsevne            83.205973\n",
       "                     Fysisk arbejdsevne     77.998636\n",
       "                     Psykisk arbejdsevne    74.057827\n",
       "Kvinder, 18 - 24 år  Arbejdsevne            81.366671\n",
       "                     Fysisk arbejdsevne     80.883213\n",
       "                     Psykisk arbejdsevne    76.164964\n",
       "Kvinder, 25 - 34 år  Arbejdsevne            80.555814\n",
       "                     Fysisk arbejdsevne     80.060497\n",
       "                     Psykisk arbejdsevne    72.496127\n",
       "Kvinder, 35 - 44 år  Arbejdsevne            83.784265\n",
       "                     Fysisk arbejdsevne     79.209839\n",
       "                     Psykisk arbejdsevne    73.995172\n",
       "Kvinder, 45 - 54 år  Arbejdsevne            84.738837\n",
       "                     Fysisk arbejdsevne     78.002418\n",
       "                     Psykisk arbejdsevne    75.005153\n",
       "Kvinder, 55 - 64 år  Arbejdsevne            83.685136\n",
       "                     Fysisk arbejdsevne     73.219642\n",
       "                     Psykisk arbejdsevne    73.345202\n",
       "Mænd                 Arbejdsevne            83.566000\n",
       "                     Fysisk arbejdsevne     80.389917\n",
       "                     Psykisk arbejdsevne    77.722537\n",
       "Mænd, 18 - 24 år     Arbejdsevne            80.987296\n",
       "                     Fysisk arbejdsevne     82.138014\n",
       "                     Psykisk arbejdsevne    79.115787\n",
       "Mænd, 25 - 34 år     Arbejdsevne            82.990325\n",
       "                     Fysisk arbejdsevne     84.379550\n",
       "                     Psykisk arbejdsevne    78.400875\n",
       "Mænd, 35 - 44 år     Arbejdsevne            84.467695\n",
       "                     Fysisk arbejdsevne     81.697763\n",
       "                     Psykisk arbejdsevne    77.810989\n",
       "Mænd, 45 - 54 år     Arbejdsevne            84.695053\n",
       "                     Fysisk arbejdsevne     79.307499\n",
       "                     Psykisk arbejdsevne    77.932704\n",
       "Mænd, 55 - 64 år     Arbejdsevne            82.778055\n",
       "                     Fysisk arbejdsevne     75.105668\n",
       "                     Psykisk arbejdsevne    75.879584\n",
       "Name: Score (Indekseret score), dtype: float64"
      ]
     },
     "execution_count": 13,
     "metadata": {},
     "output_type": "execute_result"
    }
   ],
   "source": [
    "arb_evne.groupby([group,ques]).head()"
   ]
  },
  {
   "cell_type": "code",
   "execution_count": 14,
   "metadata": {},
   "outputs": [
    {
     "data": {
      "image/png": "[encoded data removed]",
      "text/plain": [
       "<Figure size 1080x720 with 1 Axes>"
      ]
     },
     "metadata": {
      "needs_background": "light"
     },
     "output_type": "display_data"
    }
   ],
   "source": [
    "# plot data\n",
    "fig1 = arb_evne.groupby([ques, group]).mean().unstack(0).plot.bar(ylim=(40,100),figsize=(15,10), rot=45).get_figure()"
   ]
  },
  {
   "cell_type": "code",
   "execution_count": 15,
   "metadata": {},
   "outputs": [],
   "source": [
    "# save figure\n",
    "if save_fig_again:\n",
    "    fig1.savefig('fig1.png')"
   ]
  },
  {
   "cell_type": "code",
   "execution_count": 16,
   "metadata": {},
   "outputs": [],
   "source": [
    "# look at health and mental health data\n",
    "helbred_tot = df[(df[top] == 'Helbred')  | (df[top] == 'Mentalt helbred')].groupby([group,ques])[id_score].mean()\n"
   ]
  },
  {
   "cell_type": "code",
   "execution_count": 17,
   "metadata": {},
   "outputs": [
    {
     "data": {
      "image/png": "[encoded data removed]",
      "text/plain": [
       "<Figure size 1080x720 with 1 Axes>"
      ]
     },
     "metadata": {
      "needs_background": "light"
     },
     "output_type": "display_data"
    }
   ],
   "source": [
    "# plot data\n",
    "fig2 = helbred_tot.groupby([ques, group]).mean().unstack(0).plot.bar(ylim=(40,100),figsize=(15,10), rot=45).get_figure()"
   ]
  },
  {
   "cell_type": "code",
   "execution_count": 18,
   "metadata": {},
   "outputs": [],
   "source": [
    "# save figure\n",
    "if save_fig_again:\n",
    "    fig2.savefig('fig2.png')"
   ]
  },
  {
   "cell_type": "code",
   "execution_count": null,
   "metadata": {},
   "outputs": [],
   "source": []
  },
  {
   "cell_type": "code",
   "execution_count": null,
   "metadata": {},
   "outputs": [],
   "source": []
  },
  {
   "cell_type": "markdown",
   "metadata": {},
   "source": [
    "**Bonus:\n",
    "Why are people so depressed? (Hint: it's a trap)** "
   ]
  },
  {
   "cell_type": "code",
   "execution_count": 19,
   "metadata": {},
   "outputs": [
    {
     "data": {
      "text/html": [
       "<div>\n",
       "<style scoped>\n",
       "    .dataframe tbody tr th:only-of-type {\n",
       "        vertical-align: middle;\n",
       "    }\n",
       "\n",
       "    .dataframe tbody tr th {\n",
       "        vertical-align: top;\n",
       "    }\n",
       "\n",
       "    .dataframe thead th {\n",
       "        text-align: right;\n",
       "    }\n",
       "</style>\n",
       "<table border=\"1\" class=\"dataframe\">\n",
       "  <thead>\n",
       "    <tr style=\"text-align: right;\">\n",
       "      <th></th>\n",
       "      <th>Group</th>\n",
       "      <th>Question Label</th>\n",
       "      <th>Topic Label</th>\n",
       "      <th>Year</th>\n",
       "      <th>Akse</th>\n",
       "      <th>Ordforklaring</th>\n",
       "      <th>Antpers</th>\n",
       "      <th>Score (Indekseret score)</th>\n",
       "      <th>Score</th>\n",
       "    </tr>\n",
       "  </thead>\n",
       "  <tbody>\n",
       "    <tr>\n",
       "      <th>180</th>\n",
       "      <td>Mænd, 55 - 64 år</td>\n",
       "      <td>Depressive symptomer</td>\n",
       "      <td>Depressive symptomer</td>\n",
       "      <td>2018</td>\n",
       "      <td>Score</td>\n",
       "      <td>Spørgsmål: Samlet score for depressive symptom...</td>\n",
       "      <td>5101</td>\n",
       "      <td>13.163605</td>\n",
       "      <td>6.581802</td>\n",
       "    </tr>\n",
       "    <tr>\n",
       "      <th>181</th>\n",
       "      <td>Mænd, 45 - 54 år</td>\n",
       "      <td>Depressive symptomer</td>\n",
       "      <td>Depressive symptomer</td>\n",
       "      <td>2018</td>\n",
       "      <td>Score</td>\n",
       "      <td>Spørgsmål: Samlet score for depressive symptom...</td>\n",
       "      <td>5394</td>\n",
       "      <td>14.858322</td>\n",
       "      <td>7.429161</td>\n",
       "    </tr>\n",
       "    <tr>\n",
       "      <th>182</th>\n",
       "      <td>Mænd, 35 - 44 år</td>\n",
       "      <td>Depressive symptomer</td>\n",
       "      <td>Depressive symptomer</td>\n",
       "      <td>2018</td>\n",
       "      <td>Score</td>\n",
       "      <td>Spørgsmål: Samlet score for depressive symptom...</td>\n",
       "      <td>3523</td>\n",
       "      <td>17.247654</td>\n",
       "      <td>8.623827</td>\n",
       "    </tr>\n",
       "    <tr>\n",
       "      <th>183</th>\n",
       "      <td>Mænd, 25 - 34 år</td>\n",
       "      <td>Depressive symptomer</td>\n",
       "      <td>Depressive symptomer</td>\n",
       "      <td>2018</td>\n",
       "      <td>Score</td>\n",
       "      <td>Spørgsmål: Samlet score for depressive symptom...</td>\n",
       "      <td>1892</td>\n",
       "      <td>19.932200</td>\n",
       "      <td>9.966100</td>\n",
       "    </tr>\n",
       "    <tr>\n",
       "      <th>184</th>\n",
       "      <td>Mænd, 18 - 24 år</td>\n",
       "      <td>Depressive symptomer</td>\n",
       "      <td>Depressive symptomer</td>\n",
       "      <td>2018</td>\n",
       "      <td>Score</td>\n",
       "      <td>Spørgsmål: Samlet score for depressive symptom...</td>\n",
       "      <td>599</td>\n",
       "      <td>18.968089</td>\n",
       "      <td>9.484045</td>\n",
       "    </tr>\n",
       "    <tr>\n",
       "      <th>185</th>\n",
       "      <td>Mænd</td>\n",
       "      <td>Depressive symptomer</td>\n",
       "      <td>Depressive symptomer</td>\n",
       "      <td>2018</td>\n",
       "      <td>Score</td>\n",
       "      <td>Spørgsmål: Samlet score for depressive symptom...</td>\n",
       "      <td>16509</td>\n",
       "      <td>16.528759</td>\n",
       "      <td>8.264379</td>\n",
       "    </tr>\n",
       "    <tr>\n",
       "      <th>186</th>\n",
       "      <td>Kvinder, 55 - 64 år</td>\n",
       "      <td>Depressive symptomer</td>\n",
       "      <td>Depressive symptomer</td>\n",
       "      <td>2018</td>\n",
       "      <td>Score</td>\n",
       "      <td>Spørgsmål: Samlet score for depressive symptom...</td>\n",
       "      <td>5628</td>\n",
       "      <td>15.844001</td>\n",
       "      <td>7.922001</td>\n",
       "    </tr>\n",
       "    <tr>\n",
       "      <th>187</th>\n",
       "      <td>Kvinder, 45 - 54 år</td>\n",
       "      <td>Depressive symptomer</td>\n",
       "      <td>Depressive symptomer</td>\n",
       "      <td>2018</td>\n",
       "      <td>Score</td>\n",
       "      <td>Spørgsmål: Samlet score for depressive symptom...</td>\n",
       "      <td>6442</td>\n",
       "      <td>17.599932</td>\n",
       "      <td>8.799966</td>\n",
       "    </tr>\n",
       "    <tr>\n",
       "      <th>188</th>\n",
       "      <td>Kvinder, 35 - 44 år</td>\n",
       "      <td>Depressive symptomer</td>\n",
       "      <td>Depressive symptomer</td>\n",
       "      <td>2018</td>\n",
       "      <td>Score</td>\n",
       "      <td>Spørgsmål: Samlet score for depressive symptom...</td>\n",
       "      <td>4291</td>\n",
       "      <td>19.143993</td>\n",
       "      <td>9.571996</td>\n",
       "    </tr>\n",
       "    <tr>\n",
       "      <th>189</th>\n",
       "      <td>Kvinder, 25 - 34 år</td>\n",
       "      <td>Depressive symptomer</td>\n",
       "      <td>Depressive symptomer</td>\n",
       "      <td>2018</td>\n",
       "      <td>Score</td>\n",
       "      <td>Spørgsmål: Samlet score for depressive symptom...</td>\n",
       "      <td>2315</td>\n",
       "      <td>23.613089</td>\n",
       "      <td>11.806545</td>\n",
       "    </tr>\n",
       "  </tbody>\n",
       "</table>\n",
       "</div>"
      ],
      "text/plain": [
       "                   Group        Question Label           Topic Label  Year  \\\n",
       "180     Mænd, 55 - 64 år  Depressive symptomer  Depressive symptomer  2018   \n",
       "181     Mænd, 45 - 54 år  Depressive symptomer  Depressive symptomer  2018   \n",
       "182     Mænd, 35 - 44 år  Depressive symptomer  Depressive symptomer  2018   \n",
       "183     Mænd, 25 - 34 år  Depressive symptomer  Depressive symptomer  2018   \n",
       "184     Mænd, 18 - 24 år  Depressive symptomer  Depressive symptomer  2018   \n",
       "185                 Mænd  Depressive symptomer  Depressive symptomer  2018   \n",
       "186  Kvinder, 55 - 64 år  Depressive symptomer  Depressive symptomer  2018   \n",
       "187  Kvinder, 45 - 54 år  Depressive symptomer  Depressive symptomer  2018   \n",
       "188  Kvinder, 35 - 44 år  Depressive symptomer  Depressive symptomer  2018   \n",
       "189  Kvinder, 25 - 34 år  Depressive symptomer  Depressive symptomer  2018   \n",
       "\n",
       "      Akse                                      Ordforklaring  Antpers  \\\n",
       "180  Score  Spørgsmål: Samlet score for depressive symptom...     5101   \n",
       "181  Score  Spørgsmål: Samlet score for depressive symptom...     5394   \n",
       "182  Score  Spørgsmål: Samlet score for depressive symptom...     3523   \n",
       "183  Score  Spørgsmål: Samlet score for depressive symptom...     1892   \n",
       "184  Score  Spørgsmål: Samlet score for depressive symptom...      599   \n",
       "185  Score  Spørgsmål: Samlet score for depressive symptom...    16509   \n",
       "186  Score  Spørgsmål: Samlet score for depressive symptom...     5628   \n",
       "187  Score  Spørgsmål: Samlet score for depressive symptom...     6442   \n",
       "188  Score  Spørgsmål: Samlet score for depressive symptom...     4291   \n",
       "189  Score  Spørgsmål: Samlet score for depressive symptom...     2315   \n",
       "\n",
       "     Score (Indekseret score)      Score  \n",
       "180                 13.163605   6.581802  \n",
       "181                 14.858322   7.429161  \n",
       "182                 17.247654   8.623827  \n",
       "183                 19.932200   9.966100  \n",
       "184                 18.968089   9.484045  \n",
       "185                 16.528759   8.264379  \n",
       "186                 15.844001   7.922001  \n",
       "187                 17.599932   8.799966  \n",
       "188                 19.143993   9.571996  \n",
       "189                 23.613089  11.806545  "
      ]
     },
     "execution_count": 19,
     "metadata": {},
     "output_type": "execute_result"
    }
   ],
   "source": [
    "# why are people so depressed?\n",
    "df[df[top]=='Depressive symptomer'].head(10)"
   ]
  },
  {
   "cell_type": "code",
   "execution_count": 20,
   "metadata": {},
   "outputs": [],
   "source": []
  },
  {
   "cell_type": "code",
   "execution_count": 24,
   "metadata": {},
   "outputs": [
    {
     "name": "stdout",
     "output_type": "stream",
     "text": [
      "I resultaterne præsenteres den gennemsnitlige score (0-10).\n",
      "Scoren er beregnet som et gennemsnit af tre spørgsmål. Ved hvert spørgsmål er der seks svarkategorier, der hver angiver en score mellem 0 og 100. Jo højere score desto højere vitalitet.\n",
      "Scoren er beregnet som et gennemsnit af fire spørgsmål.\n",
      "I resultaterne præsenteres den gennemsnitlige score (0-4).\n",
      "Scoren er beregnet som et gennemsnit af fire spørgsmål. Ved hvert spørgsmål er der seks svarkategorier, der hver angiver en score mellem 0 og 100. Jo højere score desto højere mental sundhed.\n",
      "I resultaterne præsenteres den samlede score for antal forskellige symptomer (0-4).\n",
      "I resultaterne præsenteres den gennemsnitlige score (1-5).\n",
      "I resultaterne præsenteres den gennemsnitlige score (1-4). Personer, der har svaret 'Ikke relevant' (svarkategori 5), er ikke taget med i beregningerne.\n",
      "I resultaterne præsenteres den gennemsnitlige score (1-4). Personer, der har svaret 'Ved ikke' (svarkategori 5), er ikke taget med i beregningerne.\n",
      "Scoren er beregnet som gennemsnittet (1-5) af samtlige otte spørgsmål om ledelseskvalitet.\n",
      "I resultaterne præsenteres den gennemsnitlige score (1-5). Personer, der har svaret 'Har ingen leder' (svarkategori 6), er ikke taget med i beregningerne.\n",
      "Scoren er beregnet som et gennemsnit (0-50) af 12 spørgsmål, hvoraf to spørgsmål vedrørende appetit og adfærdsændringer er sammenlagt til ét. Den samlede score måler graden af depression, kaldet Major Depression Inventory.\n",
      "12\n"
     ]
    }
   ],
   "source": [
    "# it's a trap\n",
    "\n",
    "df[df[top]=='Depressive symptomer'][spm].unique()\n",
    "\n",
    "lool = df[df[unit] == 'Score'][spm].unique()\n",
    "\n",
    "lol = []\n",
    "for i in range(len(lool)):\n",
    "    try:\n",
    "        lol.append(lool[i].split('\\n')[-1])\n",
    "    except AttributeError:\n",
    "        print(lool[i])\n",
    "        \n",
    "lol = set(lol)\n",
    "\n",
    "# because the depression score is between 0-50\n",
    "\n",
    "for lo in lol:\n",
    "    print(lo)\n",
    "    \n",
    "    \n"
   ]
  },
  {
   "cell_type": "code",
   "execution_count": 22,
   "metadata": {},
   "outputs": [
    {
     "data": {
      "text/plain": [
       "Topic Label                                   Question Label                                               Akse     \n",
       "Angstsymptomer                                Symptomer på angst                                           Score        24.524231\n",
       "Arbejdsevne                                   Arbejdsevne                                                  Score        83.068427\n",
       "                                              Fysisk arbejdsevne                                           Score        79.366055\n",
       "                                              Psykisk arbejdsevne                                          Score        75.993910\n",
       "Arbejdspladsens prioritering af arbejdsmiljø  Arbejdsmiljøet skal være bedre end reglerne kræver           Score        54.764954\n",
       "                                              Arbejdsmiljøproblemer skal forebygges                        Score        58.989835\n",
       "                                              Medarbejderne inddrages i beslutninger om eget arbejdsmiljø  Score        57.679010\n",
       "Arbejdsrelateret sygdom                       Arbejdsrelateret sygdom                                      Andel (%)    10.420106\n",
       "Arbejdstid                                    Andet end fast dagarbejde                                    Andel (%)    20.132875\n",
       "                                              Natarbejde                                                   Andel (%)     7.777207\n",
       "                                              Ugentlig arbejdstid                                          Timer        36.737113\n",
       "Belastende arbejdsstillinger                  Armene løftet mindst 1/4 af tiden                            Andel (%)    21.173354\n",
       "                                              På hug eller på knæ mindst 1/4 af tiden                      Andel (%)    18.454073\n",
       "                                              Ryggen vredet mindst 1/4 af tiden                            Andel (%)    32.899990\n",
       "                                              Samme armbevægelser mindst 1/4 af tiden                      Andel (%)    27.147186\n",
       "Depressive symptomer                          Depressive symptomer                                         Score        18.523448\n",
       "Egen indsats for arbejdsmiljø                 Din og kollegers indsats for at forbedre arbejdsmiljøet      Score        72.936751\n",
       "Engagement og mening i arbejdet               Arbejdet giver selvtillid og arbejdsglæde                    Score        75.392006\n",
       "                                              Dit arbejde er vigtigt for dig                               Score        76.831108\n",
       "                                              Interessante og inspirerende opgaver                         Score        74.693033\n",
       "                                              Opslugt af arbejdet                                          Score        72.840182\n",
       "                                              Veloplagt på arbejdet                                        Score        74.100852\n",
       "Fysisk hårdt arbejde                          Fysisk hårdt arbejde                                         Score        34.405567\n",
       "Følelsesmæssige krav                          Følelsesmæssigt berørt af arbejdet                           Score        55.162119\n",
       "                                              Skal forholde sig til andres problemer                       Score        57.650000\n",
       "Gående, stående og siddende arbejde           Går eller står mindst 1/4 af tiden                           Andel (%)    83.924526\n",
       "                                              Går eller står mindst 3/4 af tiden                           Andel (%)    42.276072\n",
       "                                              Sidder ned mindst 3/4 af tiden                               Andel (%)    36.851513\n",
       "Helbred                                       Selvvurderet helbred                                         Score        71.520700\n",
       "Hudpåvirkning og hudproblemer                 Hudkontakt med kemikalier mindst 1/4 af tiden                Andel (%)    17.927063\n",
       "Name: Score (Indekseret score), dtype: float64"
      ]
     },
     "execution_count": 22,
     "metadata": {},
     "output_type": "execute_result"
    }
   ],
   "source": [
    "# exploring scores, USE ID_SCORE!!!\n",
    "yolo = df.groupby([top, ques, unit])[id_score].mean()\n",
    "\n",
    "yolo.head(30)"
   ]
  },
  {
   "cell_type": "code",
   "execution_count": 23,
   "metadata": {},
   "outputs": [
    {
     "data": {
      "text/plain": [
       "Topic Label      Question Label      Akse       Group              \n",
       "Angstsymptomer   Symptomer på angst  Score      Kvinder                1.361456\n",
       "                                                Kvinder, 18 - 24 år    1.661077\n",
       "                                                Kvinder, 25 - 34 år    1.556993\n",
       "                                                Kvinder, 35 - 44 år    1.320905\n",
       "                                                Kvinder, 45 - 54 år    1.269871\n",
       "                                                                         ...   \n",
       "Vold og trusler  Trusler             Andel (%)  Mænd, 18 - 24 år       8.211130\n",
       "                                                Mænd, 25 - 34 år       6.504098\n",
       "                                                Mænd, 35 - 44 år       5.902177\n",
       "                                                Mænd, 45 - 54 år       5.221695\n",
       "                                                Mænd, 55 - 64 år       5.193775\n",
       "Name: Score, Length: 1308, dtype: float64"
      ]
     },
     "execution_count": 23,
     "metadata": {},
     "output_type": "execute_result"
    }
   ],
   "source": [
    "df.groupby([top, ques, unit, group])[score].mean()"
   ]
  },
  {
   "cell_type": "code",
   "execution_count": null,
   "metadata": {},
   "outputs": [],
   "source": []
  },
  {
   "cell_type": "code",
   "execution_count": null,
   "metadata": {},
   "outputs": [],
   "source": []
  }
 ],
 "metadata": {
  "kernelspec": {
   "display_name": "Python 3",
   "language": "python",
   "name": "python3"
  },
  "language_info": {
   "codemirror_mode": {
    "name": "ipython",
    "version": 3
   },
   "file_extension": ".py",
   "mimetype": "text/x-python",
   "name": "python",
   "nbconvert_exporter": "python",
   "pygments_lexer": "ipython3",
   "version": "3.7.9"
  }
 },
 "nbformat": 4,
 "nbformat_minor": 4
}
